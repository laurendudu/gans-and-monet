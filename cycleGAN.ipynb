{
 "cells": [
  {
   "cell_type": "code",
   "execution_count": null,
   "metadata": {},
   "outputs": [],
   "source": [
    "import tensorflow as tf\n",
    "from tensorflow import keras\n",
    "from tensorflow.keras import layers\n",
    "import tensorflow_addons as tfa\n",
    "\n",
    "import matplotlib.pyplot as plt\n",
    "import numpy as np\n",
    "\n",
    "from utils.preprocessing import load_dataset\n",
    "\n",
    "from utils.gan import (\n",
    "    generator, discriminator,\n",
    ")\n",
    "\n",
    "from utils.cyclegan import (\n",
    "    CycleGan,\n",
    "    generator_loss, discriminator_loss,\n",
    "    calc_cycle_loss, identity_loss\n",
    ")"
   ]
  },
  {
   "cell_type": "code",
   "execution_count": null,
   "metadata": {},
   "outputs": [],
   "source": [
    "try:\n",
    "    tpu = tf.distribute.cluster_resolver.TPUClusterResolver()\n",
    "    print('Device:', tpu.master())\n",
    "    tf.config.experimental_connect_to_cluster(tpu)\n",
    "    tf.tpu.experimental.initialize_tpu_system(tpu)\n",
    "    strategy = tf.distribute.experimental.TPUStrategy(tpu)\n",
    "except:\n",
    "    strategy = tf.distribute.get_strategy()"
   ]
  },
  {
   "attachments": {},
   "cell_type": "markdown",
   "metadata": {},
   "source": [
    "# Import the data"
   ]
  },
  {
   "cell_type": "code",
   "execution_count": null,
   "metadata": {},
   "outputs": [],
   "source": [
    "PAINTER = \"monet\"\n",
    "# PAINTER = \"vangogh\""
   ]
  },
  {
   "cell_type": "code",
   "execution_count": null,
   "metadata": {},
   "outputs": [],
   "source": [
    "# get the number of files in the monet and photo directories\n",
    "data_dir = ('data/')\n",
    "\n",
    "if PAINTER == \"monet\":\n",
    "    PAINTER_FILES = tf.io.gfile.glob(str(data_dir + 'monet_tfrec/*.tfrec'))\n",
    "if PAINTER == \"vangogh\":\n",
    "    PAINTER_FILES = tf.io.gfile.glob(str(data_dir + 'vangogh_tfrec/*.tfrecord'))\n",
    "\n",
    "PHOTO_FILES = tf.io.gfile.glob(str(data_dir + 'photo_tfrec/*.tfrec'))"
   ]
  },
  {
   "cell_type": "code",
   "execution_count": null,
   "metadata": {},
   "outputs": [],
   "source": [
    "# print the number of files in each directory\n",
    "print('Monet TFRecord Files:', len(PAINTER_FILES))\n",
    "print('Photo TFRecord Files:', len(PHOTO_FILES))"
   ]
  },
  {
   "cell_type": "code",
   "execution_count": null,
   "metadata": {},
   "outputs": [],
   "source": [
    "paintings = load_dataset(filenames=PAINTER_FILES, batch_size=1)\n",
    "photos = load_dataset(filenames=PHOTO_FILES, batch_size=1)"
   ]
  },
  {
   "cell_type": "code",
   "execution_count": null,
   "metadata": {},
   "outputs": [],
   "source": [
    "# plot 5 random images from the monet dataset\n",
    "plt.figure(figsize=(10, 10))\n",
    "for i, image in enumerate(paintings.take(5)):\n",
    "    plt.subplot(5, 5, i + 1)\n",
    "    plt.imshow((image[0] * 0.5 + 0.5).numpy())\n",
    "    plt.axis('off')\n",
    "plt.title('Sample of The Monet Dataset')\n",
    "plt.show()\n",
    "\n",
    "# plot 5 random images from the photo dataset\n",
    "plt.figure(figsize=(10, 10))\n",
    "for i, image in enumerate(photos.take(5)):\n",
    "    plt.subplot(5, 5, i + 1)\n",
    "    plt.imshow((image[0] * 0.5 + 0.5).numpy())\n",
    "    plt.axis('off')\n",
    "plt.title('Sample of The Photo Dataset')\n",
    "plt.show()\n"
   ]
  },
  {
   "attachments": {},
   "cell_type": "markdown",
   "metadata": {},
   "source": [
    "# Creating and training the model"
   ]
  },
  {
   "cell_type": "code",
   "execution_count": null,
   "metadata": {},
   "outputs": [],
   "source": [
    "with strategy.scope():\n",
    "    G_paint = generator()\n",
    "    G_photo = generator()\n",
    "    \n",
    "    D_paint = discriminator()\n",
    "    D_photo = discriminator()"
   ]
  },
  {
   "cell_type": "code",
   "execution_count": null,
   "metadata": {},
   "outputs": [],
   "source": [
    "with strategy.scope():\n",
    "    G_optimizer_paint = tf.keras.optimizers.Adam(learning_rate=0.0002, beta_1=0.5)\n",
    "    G_optimizer_photo = tf.keras.optimizers.Adam(learning_rate=0.0002, beta_1=0.5)\n",
    "\n",
    "    D_optimizer_paint = tf.keras.optimizers.Adam(learning_rate=0.0002, beta_1=0.5)\n",
    "    D_optimizer_photo = tf.keras.optimizers.Adam(learning_rate=0.0002, beta_1=0.5)"
   ]
  },
  {
   "cell_type": "code",
   "execution_count": null,
   "metadata": {},
   "outputs": [],
   "source": [
    "with strategy.scope():\n",
    "    cycle_gan_model = CycleGan(\n",
    "        paint_generator=G_paint,\n",
    "        photo_generator=G_photo,\n",
    "        paint_discriminator=D_paint,\n",
    "        photo_discriminator=D_photo,\n",
    "    )\n",
    "\n",
    "    cycle_gan_model.compile(\n",
    "        paint_gen_optimizer=G_optimizer_paint,\n",
    "        photo_gen_optimizer=G_optimizer_photo,\n",
    "        paint_disc_optimizer=D_optimizer_paint,\n",
    "        photo_disc_optimizer=D_optimizer_photo,\n",
    "        gen_loss_fn=generator_loss,\n",
    "        disc_loss_fn=discriminator_loss,\n",
    "        cycle_loss_fn=calc_cycle_loss,\n",
    "        identity_loss_fn=identity_loss,\n",
    "    )"
   ]
  },
  {
   "cell_type": "code",
   "execution_count": null,
   "metadata": {},
   "outputs": [],
   "source": [
    "NUM_EPOCHS = 25\n",
    "with strategy.scope():\n",
    "    history = cycle_gan_model.fit(\n",
    "        tf.data.Dataset.zip((paintings, photos)),\n",
    "        epochs=NUM_EPOCHS,\n",
    "    )"
   ]
  },
  {
   "cell_type": "code",
   "execution_count": null,
   "metadata": {},
   "outputs": [],
   "source": [
    "paint_gen_loss = []\n",
    "photo_gen_loss = []\n",
    "paint_disc_loss = []\n",
    "photo_disc_loss = []\n",
    "total_cycle_loss = []\n",
    "\n",
    "print(history.history.keys())\n",
    "for epoc in range(NUM_EPOCHS):\n",
    "    paint_gen_loss.append(np.average(history.history['monet_gen_loss'][epoc].flatten()))    \n",
    "    photo_gen_loss.append(np.average(history.history['photo_gen_loss'][epoc].flatten()))\n",
    "    paint_disc_loss.append(np.average(history.history['monet_disc_loss'][epoc].flatten()))\n",
    "    photo_disc_loss.append(np.average(history.history['photo_disc_loss'][epoc].flatten()))"
   ]
  },
  {
   "attachments": {},
   "cell_type": "markdown",
   "metadata": {},
   "source": [
    "# The loss"
   ]
  },
  {
   "cell_type": "code",
   "execution_count": null,
   "metadata": {},
   "outputs": [],
   "source": [
    "plt.plot(paint_gen_loss, label='Monet Gen Loss')\n",
    "plt.plot(photo_gen_loss, label='Photo Gen Loss')\n",
    "plt.plot(paint_disc_loss, label='Monet Disc Loss')\n",
    "plt.plot(photo_disc_loss, label='Photo Disc Loss')\n",
    "\n",
    "plt.legend()\n",
    "plt.xlabel('Epoch')\n",
    "plt.ylabel('Loss')\n",
    "plt.title('Generator and Discriminator Loss')\n",
    "plt.show()"
   ]
  },
  {
   "attachments": {},
   "cell_type": "markdown",
   "metadata": {},
   "source": [
    "# Saving the model"
   ]
  },
  {
   "cell_type": "code",
   "execution_count": null,
   "metadata": {},
   "outputs": [],
   "source": [
    "SAVE_PATH = 'images/cycleGAN/'\n",
    "G_paint.save(SAVE_PATH + f'G_{PAINTER}.h5')\n",
    "G_photo.save(SAVE_PATH + 'G_photo.h5')\n",
    "D_paint.save(SAVE_PATH + f'D_{PAINTER}.h5')\n",
    "D_photo.save(SAVE_PATH + 'D_photo.h5')"
   ]
  },
  {
   "attachments": {},
   "cell_type": "markdown",
   "metadata": {},
   "source": [
    "# Generate the output images"
   ]
  },
  {
   "cell_type": "code",
   "execution_count": null,
   "metadata": {},
   "outputs": [],
   "source": [
    "import PIL\n",
    "! mkdir output\n",
    "! mkdir output/images"
   ]
  },
  {
   "cell_type": "code",
   "execution_count": null,
   "metadata": {},
   "outputs": [],
   "source": [
    "i = 1\n",
    "for img in photos:\n",
    "    prediction = G_paint(img, training=False)[0].numpy()\n",
    "    prediction = (prediction * 127.5 + 127.5).astype(np.uint8)\n",
    "    im = PIL.Image.fromarray(prediction)\n",
    "    im.save(\"output/images\" + str(i) + \".jpg\")\n",
    "    i += 1"
   ]
  },
  {
   "cell_type": "code",
   "execution_count": null,
   "metadata": {},
   "outputs": [],
   "source": [
    "import shutil\n",
    "shutil.make_archive(\"output/output_cyclegan\", 'zip', \"output/images\")"
   ]
  }
 ],
 "metadata": {
  "kernelspec": {
   "display_name": "tulip",
   "language": "python",
   "name": "python3"
  },
  "language_info": {
   "codemirror_mode": {
    "name": "ipython",
    "version": 3
   },
   "file_extension": ".py",
   "mimetype": "text/x-python",
   "name": "python",
   "nbconvert_exporter": "python",
   "pygments_lexer": "ipython3",
   "version": "3.8.14"
  },
  "orig_nbformat": 4,
  "vscode": {
   "interpreter": {
    "hash": "fe1432100fa846dd20953a7d0c263945e5c9df579f052187ee666d4bb0f5c425"
   }
  }
 },
 "nbformat": 4,
 "nbformat_minor": 2
}
